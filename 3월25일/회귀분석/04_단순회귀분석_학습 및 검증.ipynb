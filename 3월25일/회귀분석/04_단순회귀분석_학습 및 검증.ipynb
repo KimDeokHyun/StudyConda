{
 "cells": [
  {
   "cell_type": "code",
   "execution_count": 7,
   "id": "e37a76fc",
   "metadata": {},
   "outputs": [],
   "source": [
    "import pandas as pd\n",
    "import numpy as np\n",
    "import matplotlib.pyplot as plt\n",
    "import seaborn as sns"
   ]
  },
  {
   "cell_type": "code",
   "execution_count": 8,
   "id": "a2158b5a",
   "metadata": {},
   "outputs": [],
   "source": [
    "df = pd.read_csv(\"./file_new/auto-mpg_v2.csv\")"
   ]
  },
  {
   "cell_type": "code",
   "execution_count": 35,
   "id": "db122ca0",
   "metadata": {
    "scrolled": true
   },
   "outputs": [
    {
     "data": {
      "text/html": [
       "<div>\n",
       "<style scoped>\n",
       "    .dataframe tbody tr th:only-of-type {\n",
       "        vertical-align: middle;\n",
       "    }\n",
       "\n",
       "    .dataframe tbody tr th {\n",
       "        vertical-align: top;\n",
       "    }\n",
       "\n",
       "    .dataframe thead th {\n",
       "        text-align: right;\n",
       "    }\n",
       "</style>\n",
       "<table border=\"1\" class=\"dataframe\">\n",
       "  <thead>\n",
       "    <tr style=\"text-align: right;\">\n",
       "      <th></th>\n",
       "      <th>연비</th>\n",
       "      <th>실린더</th>\n",
       "      <th>배기량</th>\n",
       "      <th>중량</th>\n",
       "    </tr>\n",
       "  </thead>\n",
       "  <tbody>\n",
       "    <tr>\n",
       "      <th>0</th>\n",
       "      <td>18.0</td>\n",
       "      <td>8</td>\n",
       "      <td>307.0</td>\n",
       "      <td>3504.0</td>\n",
       "    </tr>\n",
       "    <tr>\n",
       "      <th>1</th>\n",
       "      <td>15.0</td>\n",
       "      <td>8</td>\n",
       "      <td>350.0</td>\n",
       "      <td>3693.0</td>\n",
       "    </tr>\n",
       "    <tr>\n",
       "      <th>2</th>\n",
       "      <td>18.0</td>\n",
       "      <td>8</td>\n",
       "      <td>318.0</td>\n",
       "      <td>3436.0</td>\n",
       "    </tr>\n",
       "    <tr>\n",
       "      <th>3</th>\n",
       "      <td>16.0</td>\n",
       "      <td>8</td>\n",
       "      <td>304.0</td>\n",
       "      <td>3433.0</td>\n",
       "    </tr>\n",
       "    <tr>\n",
       "      <th>4</th>\n",
       "      <td>17.0</td>\n",
       "      <td>8</td>\n",
       "      <td>302.0</td>\n",
       "      <td>3449.0</td>\n",
       "    </tr>\n",
       "    <tr>\n",
       "      <th>...</th>\n",
       "      <td>...</td>\n",
       "      <td>...</td>\n",
       "      <td>...</td>\n",
       "      <td>...</td>\n",
       "    </tr>\n",
       "    <tr>\n",
       "      <th>387</th>\n",
       "      <td>27.0</td>\n",
       "      <td>4</td>\n",
       "      <td>140.0</td>\n",
       "      <td>2790.0</td>\n",
       "    </tr>\n",
       "    <tr>\n",
       "      <th>388</th>\n",
       "      <td>44.0</td>\n",
       "      <td>4</td>\n",
       "      <td>97.0</td>\n",
       "      <td>2130.0</td>\n",
       "    </tr>\n",
       "    <tr>\n",
       "      <th>389</th>\n",
       "      <td>32.0</td>\n",
       "      <td>4</td>\n",
       "      <td>135.0</td>\n",
       "      <td>2295.0</td>\n",
       "    </tr>\n",
       "    <tr>\n",
       "      <th>390</th>\n",
       "      <td>28.0</td>\n",
       "      <td>4</td>\n",
       "      <td>120.0</td>\n",
       "      <td>2625.0</td>\n",
       "    </tr>\n",
       "    <tr>\n",
       "      <th>391</th>\n",
       "      <td>31.0</td>\n",
       "      <td>4</td>\n",
       "      <td>119.0</td>\n",
       "      <td>2720.0</td>\n",
       "    </tr>\n",
       "  </tbody>\n",
       "</table>\n",
       "<p>392 rows × 4 columns</p>\n",
       "</div>"
      ],
      "text/plain": [
       "       연비  실린더    배기량      중량\n",
       "0    18.0    8  307.0  3504.0\n",
       "1    15.0    8  350.0  3693.0\n",
       "2    18.0    8  318.0  3436.0\n",
       "3    16.0    8  304.0  3433.0\n",
       "4    17.0    8  302.0  3449.0\n",
       "..    ...  ...    ...     ...\n",
       "387  27.0    4  140.0  2790.0\n",
       "388  44.0    4   97.0  2130.0\n",
       "389  32.0    4  135.0  2295.0\n",
       "390  28.0    4  120.0  2625.0\n",
       "391  31.0    4  119.0  2720.0\n",
       "\n",
       "[392 rows x 4 columns]"
      ]
     },
     "execution_count": 35,
     "metadata": {},
     "output_type": "execute_result"
    }
   ],
   "source": [
    "# 사용할 변수들 : mpg, cylinders, horsepower, weight\n",
    "ndf = df[['연비','실린더','배기량','중량']]\n",
    "ndf"
   ]
  },
  {
   "cell_type": "code",
   "execution_count": 36,
   "id": "989ba9df",
   "metadata": {},
   "outputs": [],
   "source": [
    "# 예측모델\n",
    "x = ndf[['중량']]\n",
    "y = ndf[\"연비\"]"
   ]
  },
  {
   "cell_type": "code",
   "execution_count": 37,
   "id": "83718785",
   "metadata": {
    "scrolled": true
   },
   "outputs": [
    {
     "data": {
      "text/html": [
       "<div>\n",
       "<style scoped>\n",
       "    .dataframe tbody tr th:only-of-type {\n",
       "        vertical-align: middle;\n",
       "    }\n",
       "\n",
       "    .dataframe tbody tr th {\n",
       "        vertical-align: top;\n",
       "    }\n",
       "\n",
       "    .dataframe thead th {\n",
       "        text-align: right;\n",
       "    }\n",
       "</style>\n",
       "<table border=\"1\" class=\"dataframe\">\n",
       "  <thead>\n",
       "    <tr style=\"text-align: right;\">\n",
       "      <th></th>\n",
       "      <th>중량</th>\n",
       "    </tr>\n",
       "  </thead>\n",
       "  <tbody>\n",
       "    <tr>\n",
       "      <th>0</th>\n",
       "      <td>3504.0</td>\n",
       "    </tr>\n",
       "    <tr>\n",
       "      <th>1</th>\n",
       "      <td>3693.0</td>\n",
       "    </tr>\n",
       "    <tr>\n",
       "      <th>2</th>\n",
       "      <td>3436.0</td>\n",
       "    </tr>\n",
       "    <tr>\n",
       "      <th>3</th>\n",
       "      <td>3433.0</td>\n",
       "    </tr>\n",
       "    <tr>\n",
       "      <th>4</th>\n",
       "      <td>3449.0</td>\n",
       "    </tr>\n",
       "    <tr>\n",
       "      <th>...</th>\n",
       "      <td>...</td>\n",
       "    </tr>\n",
       "    <tr>\n",
       "      <th>387</th>\n",
       "      <td>2790.0</td>\n",
       "    </tr>\n",
       "    <tr>\n",
       "      <th>388</th>\n",
       "      <td>2130.0</td>\n",
       "    </tr>\n",
       "    <tr>\n",
       "      <th>389</th>\n",
       "      <td>2295.0</td>\n",
       "    </tr>\n",
       "    <tr>\n",
       "      <th>390</th>\n",
       "      <td>2625.0</td>\n",
       "    </tr>\n",
       "    <tr>\n",
       "      <th>391</th>\n",
       "      <td>2720.0</td>\n",
       "    </tr>\n",
       "  </tbody>\n",
       "</table>\n",
       "<p>392 rows × 1 columns</p>\n",
       "</div>"
      ],
      "text/plain": [
       "         중량\n",
       "0    3504.0\n",
       "1    3693.0\n",
       "2    3436.0\n",
       "3    3433.0\n",
       "4    3449.0\n",
       "..      ...\n",
       "387  2790.0\n",
       "388  2130.0\n",
       "389  2295.0\n",
       "390  2625.0\n",
       "391  2720.0\n",
       "\n",
       "[392 rows x 1 columns]"
      ]
     },
     "execution_count": 37,
     "metadata": {},
     "output_type": "execute_result"
    }
   ],
   "source": [
    "x"
   ]
  },
  {
   "cell_type": "code",
   "execution_count": 38,
   "id": "c1952732",
   "metadata": {
    "scrolled": true
   },
   "outputs": [],
   "source": [
    "from sklearn.model_selection import train_test_split"
   ]
  },
  {
   "cell_type": "code",
   "execution_count": 39,
   "id": "61d0a1c7",
   "metadata": {},
   "outputs": [],
   "source": [
    "# test_size : 검증 데이터 비율(나머지 훈련데이터 비율)\n",
    "# random_state : 랜덤하게 뽑아내기 위한 시드값\n",
    "# train : 훈련(학습) 데이터\n",
    "# test : 검증(test) 데이터\n",
    "\n",
    "x_train, x_test, y_train, y_test = train_test_split(x,\n",
    "                                                    y,\n",
    "                                                    test_size = 0.3,\n",
    "                                                    random_state = 10)"
   ]
  },
  {
   "cell_type": "code",
   "execution_count": 40,
   "id": "a27bfb17",
   "metadata": {},
   "outputs": [
    {
     "data": {
      "text/html": [
       "<div>\n",
       "<style scoped>\n",
       "    .dataframe tbody tr th:only-of-type {\n",
       "        vertical-align: middle;\n",
       "    }\n",
       "\n",
       "    .dataframe tbody tr th {\n",
       "        vertical-align: top;\n",
       "    }\n",
       "\n",
       "    .dataframe thead th {\n",
       "        text-align: right;\n",
       "    }\n",
       "</style>\n",
       "<table border=\"1\" class=\"dataframe\">\n",
       "  <thead>\n",
       "    <tr style=\"text-align: right;\">\n",
       "      <th></th>\n",
       "      <th>중량</th>\n",
       "    </tr>\n",
       "  </thead>\n",
       "  <tbody>\n",
       "    <tr>\n",
       "      <th>37</th>\n",
       "      <td>4209.0</td>\n",
       "    </tr>\n",
       "    <tr>\n",
       "      <th>170</th>\n",
       "      <td>2223.0</td>\n",
       "    </tr>\n",
       "    <tr>\n",
       "      <th>275</th>\n",
       "      <td>3410.0</td>\n",
       "    </tr>\n",
       "    <tr>\n",
       "      <th>194</th>\n",
       "      <td>2164.0</td>\n",
       "    </tr>\n",
       "    <tr>\n",
       "      <th>352</th>\n",
       "      <td>2615.0</td>\n",
       "    </tr>\n",
       "    <tr>\n",
       "      <th>...</th>\n",
       "      <td>...</td>\n",
       "    </tr>\n",
       "    <tr>\n",
       "      <th>369</th>\n",
       "      <td>1980.0</td>\n",
       "    </tr>\n",
       "    <tr>\n",
       "      <th>320</th>\n",
       "      <td>2110.0</td>\n",
       "    </tr>\n",
       "    <tr>\n",
       "      <th>15</th>\n",
       "      <td>2833.0</td>\n",
       "    </tr>\n",
       "    <tr>\n",
       "      <th>125</th>\n",
       "      <td>2901.0</td>\n",
       "    </tr>\n",
       "    <tr>\n",
       "      <th>265</th>\n",
       "      <td>2560.0</td>\n",
       "    </tr>\n",
       "  </tbody>\n",
       "</table>\n",
       "<p>274 rows × 1 columns</p>\n",
       "</div>"
      ],
      "text/plain": [
       "         중량\n",
       "37   4209.0\n",
       "170  2223.0\n",
       "275  3410.0\n",
       "194  2164.0\n",
       "352  2615.0\n",
       "..      ...\n",
       "369  1980.0\n",
       "320  2110.0\n",
       "15   2833.0\n",
       "125  2901.0\n",
       "265  2560.0\n",
       "\n",
       "[274 rows x 1 columns]"
      ]
     },
     "execution_count": 40,
     "metadata": {},
     "output_type": "execute_result"
    }
   ],
   "source": [
    "x_train"
   ]
  },
  {
   "cell_type": "code",
   "execution_count": 41,
   "id": "0e575cfc",
   "metadata": {},
   "outputs": [
    {
     "data": {
      "text/plain": [
       "241    21.5\n",
       "366    29.0\n",
       "298    23.9\n",
       "341    35.1\n",
       "263    17.5\n",
       "       ... \n",
       "378    32.0\n",
       "20     25.0\n",
       "187    15.5\n",
       "59     20.0\n",
       "225    19.0\n",
       "Name: 연비, Length: 118, dtype: float64"
      ]
     },
     "execution_count": 41,
     "metadata": {},
     "output_type": "execute_result"
    }
   ],
   "source": [
    "y_test"
   ]
  },
  {
   "cell_type": "code",
   "execution_count": 42,
   "id": "c6188609",
   "metadata": {},
   "outputs": [],
   "source": [
    "from sklearn.linear_model import LinearRegression"
   ]
  },
  {
   "cell_type": "code",
   "execution_count": 43,
   "id": "079c4422",
   "metadata": {},
   "outputs": [],
   "source": [
    "lr = LinearRegression()"
   ]
  },
  {
   "cell_type": "code",
   "execution_count": 44,
   "id": "ade1d970",
   "metadata": {},
   "outputs": [
    {
     "data": {
      "text/plain": [
       "LinearRegression()"
      ]
     },
     "execution_count": 44,
     "metadata": {},
     "output_type": "execute_result"
    }
   ],
   "source": [
    "# 학습 모델 만들기\n",
    "lr.fit(x_train, y_train)"
   ]
  },
  {
   "cell_type": "code",
   "execution_count": 45,
   "id": "bab49dc7",
   "metadata": {},
   "outputs": [
    {
     "data": {
      "text/plain": [
       "0.6916618001977128"
      ]
     },
     "execution_count": 45,
     "metadata": {},
     "output_type": "execute_result"
    }
   ],
   "source": [
    "# 결정계수(R-제곱) 조회\n",
    "lr.score(x_train, y_train)"
   ]
  },
  {
   "cell_type": "code",
   "execution_count": 46,
   "id": "34c9493f",
   "metadata": {},
   "outputs": [
    {
     "data": {
      "text/plain": [
       "array([-0.00775343])"
      ]
     },
     "execution_count": 46,
     "metadata": {},
     "output_type": "execute_result"
    }
   ],
   "source": [
    "# a 값\n",
    "lr.coef_"
   ]
  },
  {
   "cell_type": "code",
   "execution_count": 47,
   "id": "2e5cab0c",
   "metadata": {},
   "outputs": [
    {
     "data": {
      "text/plain": [
       "46.7103662572801"
      ]
     },
     "execution_count": 47,
     "metadata": {},
     "output_type": "execute_result"
    }
   ],
   "source": [
    "# b 값\n",
    "lr.intercept_"
   ]
  },
  {
   "cell_type": "code",
   "execution_count": 48,
   "id": "daadbff2",
   "metadata": {},
   "outputs": [],
   "source": [
    "# \n",
    "y_hat = lr.predict(x)"
   ]
  },
  {
   "cell_type": "code",
   "execution_count": 49,
   "id": "c26fefe0",
   "metadata": {},
   "outputs": [
    {
     "data": {
      "text/plain": [
       "array([19.54234168, 18.0769431 , 20.06957503, 20.09283533, 19.96878042,\n",
       "       13.05271937, 12.95192476, 13.27756889, 12.40143111, 16.85965432,\n",
       "       19.08488921, 18.72823136, 17.54970974, 22.78327612, 28.31922633,\n",
       "       24.74489433, 25.2023468 , 26.65223852, 30.1955568 , 32.48281914,\n",
       "       25.99319683, 27.8695273 , 28.29596604, 29.3891999 , 26.17927919,\n",
       "       10.92827909, 12.78134926, 12.73482867, 10.02112759, 30.1955568 ,\n",
       "       29.15659695, 29.43572049, 26.28782724, 20.04631474, 20.89919222,\n",
       "       21.10853488, 21.21708292, 14.07617235, 12.09904728, 14.50261109,\n",
       "       14.95231013,  8.29211233,  9.91257955,  6.85772747, 23.74470165,\n",
       "       28.04010279, 21.26360351, 22.37234424, 29.49774795, 30.24983082,\n",
       "       30.62974897, 30.69952986, 32.9635319 , 34.20408097, 32.49057257,\n",
       "       31.55240734, 29.04804891, 30.22657052, 29.23413127, 28.04010279,\n",
       "       29.45122736, 13.57219929, 12.71156838, 14.6499263 , 14.69644689,\n",
       "       18.23976516, 10.78871732, 11.80441687, 12.16107473, 12.42469141,\n",
       "       28.64487046, 16.53401019, 14.93680327, 13.41713066, 15.09962533,\n",
       "       23.96955117, 27.24149933, 23.61289331, 29.73810433, 28.1408974 ,\n",
       "       28.97051459, 27.28026649, 29.93194012, 30.42815975, 14.92129641,\n",
       "       18.23976516, 15.78968075, 15.37099544, 17.42565484,  8.31537262,\n",
       "       12.09904728, 12.88214388, 13.85907627,  9.99786729,  8.32312605,\n",
       "       17.08450384, 22.51190601, 21.29461724, 23.87650999, 23.28724918,\n",
       "       24.19440068, 31.5911745 ,  7.9664682 ,  8.67203048, 10.62589526,\n",
       "       11.82767717, 25.08604533, 29.04029548, 28.09437681, 28.26495231,\n",
       "       30.24207739, 28.7999391 , 27.54388317, 29.14884352, 15.06085818,\n",
       "       13.54118557, 32.23470933, 29.97846071, 26.69100568, 24.47352422,\n",
       "       20.35645201, 26.08623801, 24.94648356, 18.30179261, 22.65922121,\n",
       "       24.21766098, 20.8449182 , 31.5911745 , 27.70670523, 32.47506571,\n",
       "       27.00114295, 17.39464111, 18.54990243, 18.69721763, 14.60340571,\n",
       "       10.27699083, 12.1533213 , 10.74995017, 13.70400763, 29.50550138,\n",
       "       31.49037989, 28.87747341, 33.92495743, 31.18024262, 30.23432396,\n",
       "       30.36613229, 29.29615872, 27.41207483, 28.17191113, 31.20350291,\n",
       "       21.40316528, 19.89124611, 20.10058876, 22.22502904, 10.51734722,\n",
       "       12.28512964, 11.8354306 , 10.60263496, 16.41770872, 16.49524303,\n",
       "       17.79006612, 17.36362738, 23.14768741, 21.73656284, 22.13974129,\n",
       "       29.8776661 , 26.24906008, 24.11686637, 26.61347137, 25.76059388,\n",
       "       29.47448765, 26.97788265, 23.57412615, 31.69196911, 21.81409716,\n",
       "       25.82262133, 23.78346881, 23.87650999, 26.00095026, 32.79295641,\n",
       "       27.60591062, 29.49774795, 26.76854   , 29.22637784, 29.63730972,\n",
       "       14.02965176, 14.22348755, 15.99126998, 14.02965176, 21.64352166,\n",
       "       20.71310986, 23.35703006, 22.79102955, 30.93213281, 29.93194012,\n",
       "       31.69196911, 32.79295641, 18.40258723, 18.99960146, 18.44910782,\n",
       "       21.95365893, 32.56035346, 31.28103723, 30.00172101, 26.82281402,\n",
       "       22.28705649, 16.16184547, 21.35664469, 23.99281146, 17.09225727,\n",
       "       12.75033554, 15.27020083, 16.70458569, 17.59623033, 30.85459849,\n",
       "       30.00172101, 32.56035346, 28.87747341, 31.62994166, 16.62705137,\n",
       "       15.23143367, 14.61115914, 13.40937723, 19.41828677, 20.15486278,\n",
       "       18.56540929, 19.37951962, 13.9908846 , 14.41732335, 13.17677428,\n",
       "       13.09923996, 31.66870882, 25.46596348, 29.14884352, 25.349662  ,\n",
       "       30.8080779 , 30.62199554, 31.31980439, 29.7303509 , 24.8844561 ,\n",
       "       26.55144391, 25.62103211, 31.31980439, 32.75418925, 31.31980439,\n",
       "       30.6607627 , 32.75418925, 20.62006868, 17.75129897, 19.03061519,\n",
       "       19.3019853 , 22.24828933, 23.72144135, 25.62103211, 20.11609562,\n",
       "       21.82185059, 20.50376721, 22.90733103, 18.64294361, 20.27116426,\n",
       "       20.15486278, 19.99979415, 21.86061775, 15.07636504, 30.00172101,\n",
       "       26.86158118, 28.87747341, 29.42021363, 27.2104856 , 25.42719632,\n",
       "       24.57431884, 28.06336309, 24.76815463, 22.36459081, 25.03952474,\n",
       "       20.27116426, 31.28103723, 30.15678964, 21.55048048, 23.52760556,\n",
       "       24.30294873, 21.39541185, 20.65883584, 16.93718864, 17.82883328,\n",
       "       16.045544  , 17.01472296, 12.90540417, 15.27795426, 18.75924508,\n",
       "       16.16184547, 31.78501029, 31.39733871, 31.86254461, 26.0087037 ,\n",
       "       19.34075246, 16.47198274, 21.97691923, 20.19362994, 29.65281658,\n",
       "       30.04048816, 31.04843428, 30.1955568 , 26.0087037 , 26.59021107,\n",
       "       25.77610074, 26.89259491, 30.08700875, 31.45161273, 30.27309111,\n",
       "       31.05618771, 25.94667624, 24.45801736, 23.42681095, 20.49601378,\n",
       "       29.74585776, 25.690813  , 27.00114295, 27.83851357, 29.14884352,\n",
       "       30.35062543, 25.00075758, 30.35062543, 30.54446122, 28.6061033 ,\n",
       "       23.83774283, 21.51171333, 32.36651767, 30.07925532, 32.40528482,\n",
       "       24.14788009, 27.94706161, 27.32678708, 28.95500773, 27.4043214 ,\n",
       "       26.2800738 , 26.39637528, 25.58226495, 28.21843172, 33.10309367,\n",
       "       32.17268187, 33.06432652, 30.69952986, 31.39733871, 30.81583133,\n",
       "       31.31980439, 29.53651511, 30.85459849, 28.25719888, 29.7303509 ,\n",
       "       29.57528226, 28.48980183, 26.43514244, 26.2800738 , 21.66678196,\n",
       "       22.20952218, 24.22541441, 23.99281146, 20.2323971 , 17.82883328,\n",
       "       22.98486534, 19.84472552, 26.51267675, 26.24130665, 28.1408974 ,\n",
       "       26.7452797 , 27.13295129, 25.50473064, 24.49678452, 31.35857155,\n",
       "       31.00966712, 31.43610586, 30.23432396, 30.23432396, 29.96295385,\n",
       "       29.61404942, 29.30391216, 31.47487302, 31.47487302, 31.24227007,\n",
       "       23.87650999, 23.33376977, 26.66774539, 24.72938747, 26.04747085,\n",
       "       28.3347332 , 23.83774283, 25.07829189, 30.1955568 , 28.91624057,\n",
       "       26.35760812, 25.62103211])"
      ]
     },
     "execution_count": 49,
     "metadata": {},
     "output_type": "execute_result"
    }
   ],
   "source": [
    "y_hat"
   ]
  },
  {
   "cell_type": "code",
   "execution_count": 50,
   "id": "9ff59f14",
   "metadata": {},
   "outputs": [
    {
     "data": {
      "image/png": "[encoded data removed]",
      "text/plain": [
       "<Figure size 720x360 with 1 Axes>"
      ]
     },
     "metadata": {
      "needs_background": "light"
     },
     "output_type": "display_data"
    }
   ],
   "source": [
    "plt.figure(figsize=(10,5))\n",
    "ax1 = sns.kdeplot(y, label=\"y\")\n",
    "ax2 = sns.kdeplot(y_hat, label=\"y_hat\", ax=ax1)\n",
    "\n",
    "plt.legend()\n",
    "plt.show()"
   ]
  },
  {
   "cell_type": "code",
   "execution_count": 51,
   "id": "4c74d41a",
   "metadata": {},
   "outputs": [
    {
     "data": {
      "image/png": "[encoded data removed]",
      "text/plain": [
       "<Figure size 432x288 with 1 Axes>"
      ]
     },
     "metadata": {
      "needs_background": "light"
     },
     "output_type": "display_data"
    }
   ],
   "source": [
    "ax1=sns.kdeplot(y, label=\"y\")"
   ]
  },
  {
   "cell_type": "code",
   "execution_count": null,
   "id": "87e8c0b9",
   "metadata": {},
   "outputs": [],
   "source": []
  },
  {
   "cell_type": "code",
   "execution_count": null,
   "id": "719518cf",
   "metadata": {},
   "outputs": [],
   "source": []
  },
  {
   "cell_type": "code",
   "execution_count": null,
   "id": "f1f878ec",
   "metadata": {},
   "outputs": [],
   "source": []
  }
 ],
 "metadata": {
  "kernelspec": {
   "display_name": "Python 3 (ipykernel)",
   "language": "python",
   "name": "python3"
  },
  "language_info": {
   "codemirror_mode": {
    "name": "ipython",
    "version": 3
   },
   "file_extension": ".py",
   "mimetype": "text/x-python",
   "name": "python",
   "nbconvert_exporter": "python",
   "pygments_lexer": "ipython3",
   "version": "3.10.2"
  }
 },
 "nbformat": 4,
 "nbformat_minor": 5
}
