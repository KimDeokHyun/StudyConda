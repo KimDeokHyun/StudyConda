{
 "cells": [
  {
   "cell_type": "markdown",
   "id": "1af5f18a",
   "metadata": {},
   "source": [
    "# 시리즈"
   ]
  },
  {
   "cell_type": "code",
   "execution_count": 1,
   "id": "347b574b",
   "metadata": {},
   "outputs": [],
   "source": [
    "# 라이브러리 불러들이기\n",
    "import pandas as pd"
   ]
  },
  {
   "cell_type": "code",
   "execution_count": 6,
   "id": "c4a703bb",
   "metadata": {},
   "outputs": [
    {
     "data": {
      "text/plain": [
       "0       Doc\n",
       "1       Cat\n",
       "2     tiger\n",
       "3      Lion\n",
       "4    Monkey\n",
       "dtype: object"
      ]
     },
     "execution_count": 6,
     "metadata": {},
     "output_type": "execute_result"
    }
   ],
   "source": [
    "sd1 = pd.Series(['Doc', 'Cat', 'tiger', 'Lion', 'Monkey'],\n",
    "                index = ['0', '1', '2', '3', '4'])\n",
    "\n",
    "\n",
    "sd1"
   ]
  },
  {
   "cell_type": "markdown",
   "id": "2c048056",
   "metadata": {},
   "source": [
    "### 딕셔너리 → 시리즈로"
   ]
  },
  {
   "cell_type": "code",
   "execution_count": 9,
   "id": "320ad163",
   "metadata": {},
   "outputs": [
    {
     "data": {
      "text/plain": [
       "{'a': 1, 'b': 2, 'c': 3}"
      ]
     },
     "execution_count": 9,
     "metadata": {},
     "output_type": "execute_result"
    }
   ],
   "source": [
    "dict_data = {'a' : 1, 'b' : 2, 'c' : 3}\n",
    "\n",
    "dict_data"
   ]
  },
  {
   "cell_type": "code",
   "execution_count": 11,
   "id": "97d7f9cb",
   "metadata": {},
   "outputs": [
    {
     "data": {
      "text/plain": [
       "pandas.core.series.Series"
      ]
     },
     "execution_count": 11,
     "metadata": {},
     "output_type": "execute_result"
    }
   ],
   "source": [
    "sd2 = pd.Series(dict_data)\n",
    "sd2\n",
    "\n",
    "type(sd2)"
   ]
  },
  {
   "cell_type": "markdown",
   "id": "89f855c2",
   "metadata": {},
   "source": [
    "### 리스트 → 시리즈로"
   ]
  },
  {
   "cell_type": "code",
   "execution_count": 12,
   "id": "617849ff",
   "metadata": {},
   "outputs": [
    {
     "data": {
      "text/plain": [
       "pandas.core.series.Series"
      ]
     },
     "execution_count": 12,
     "metadata": {},
     "output_type": "execute_result"
    }
   ],
   "source": [
    "list_data = ['Dog', 'Cat', 'Tiger']\n",
    "\n",
    "sd3 = pd.Series(list_data)\n",
    "sd3\n",
    "\n",
    "type(sd3)"
   ]
  },
  {
   "cell_type": "markdown",
   "id": "6e971eda",
   "metadata": {},
   "source": [
    "### 튜플 → 시리즈로"
   ]
  },
  {
   "cell_type": "code",
   "execution_count": 13,
   "id": "1b6c711c",
   "metadata": {},
   "outputs": [],
   "source": [
    "# '이순신', '1991-03-15', '남자'\n",
    "# 위의 데이터를 튜플로 만들어라"
   ]
  },
  {
   "cell_type": "code",
   "execution_count": 21,
   "id": "28e5bda6",
   "metadata": {},
   "outputs": [
    {
     "data": {
      "text/plain": [
       "pandas.core.series.Series"
      ]
     },
     "execution_count": 21,
     "metadata": {},
     "output_type": "execute_result"
    }
   ],
   "source": [
    "tup_data = ('이순신', '1991-03-15', '남자')\n",
    "\n",
    "sd4 = pd.Series(tup_data)\n",
    "sd4\n",
    "\n",
    "type(sd4)"
   ]
  },
  {
   "cell_type": "code",
   "execution_count": 26,
   "id": "08591a84",
   "metadata": {},
   "outputs": [
    {
     "data": {
      "text/plain": [
       "이름             이순신\n",
       "생년월일    1991-03-15\n",
       "성별              남자\n",
       "dtype: object"
      ]
     },
     "execution_count": 26,
     "metadata": {},
     "output_type": "execute_result"
    }
   ],
   "source": [
    "col_name = [\"이름\", \"생년월일\", \"성별\"]\n",
    "\n",
    "sd4 = pd.Series(tup_data,\n",
    "               index = col_name)\n",
    "\n",
    "sd4"
   ]
  },
  {
   "cell_type": "markdown",
   "id": "08fc07bf",
   "metadata": {},
   "source": [
    "### 딕셔너리 → 데이터프레임으로"
   ]
  },
  {
   "cell_type": "code",
   "execution_count": 29,
   "id": "4a2fffc6",
   "metadata": {},
   "outputs": [],
   "source": [
    "#동물 : 'Dog', 'Cat', 'Tiger', 'Lion', 'Monkey'\n",
    "#나이 : 7,9,2,3,1\n",
    "# 위에 동물과 나이를 하나의 딕셔너리로 만들어 주세요..."
   ]
  },
  {
   "cell_type": "code",
   "execution_count": 36,
   "id": "787fc934",
   "metadata": {},
   "outputs": [
    {
     "data": {
      "text/plain": [
       "dict"
      ]
     },
     "execution_count": 36,
     "metadata": {},
     "output_type": "execute_result"
    }
   ],
   "source": [
    "dict_data = {'동물' : ['Dog', 'Cat', 'Tiger', 'Lion', 'Monkey'],\n",
    "             '나이' : [7,9,2,3,1]}\n",
    "type(dict_data)"
   ]
  },
  {
   "cell_type": "code",
   "execution_count": 38,
   "id": "69f5781d",
   "metadata": {},
   "outputs": [
    {
     "data": {
      "text/html": [
       "<div>\n",
       "<style scoped>\n",
       "    .dataframe tbody tr th:only-of-type {\n",
       "        vertical-align: middle;\n",
       "    }\n",
       "\n",
       "    .dataframe tbody tr th {\n",
       "        vertical-align: top;\n",
       "    }\n",
       "\n",
       "    .dataframe thead th {\n",
       "        text-align: right;\n",
       "    }\n",
       "</style>\n",
       "<table border=\"1\" class=\"dataframe\">\n",
       "  <thead>\n",
       "    <tr style=\"text-align: right;\">\n",
       "      <th></th>\n",
       "      <th>동물</th>\n",
       "      <th>나이</th>\n",
       "    </tr>\n",
       "  </thead>\n",
       "  <tbody>\n",
       "    <tr>\n",
       "      <th>0</th>\n",
       "      <td>Dog</td>\n",
       "      <td>7</td>\n",
       "    </tr>\n",
       "    <tr>\n",
       "      <th>1</th>\n",
       "      <td>Cat</td>\n",
       "      <td>9</td>\n",
       "    </tr>\n",
       "    <tr>\n",
       "      <th>2</th>\n",
       "      <td>Tiger</td>\n",
       "      <td>2</td>\n",
       "    </tr>\n",
       "    <tr>\n",
       "      <th>3</th>\n",
       "      <td>Lion</td>\n",
       "      <td>3</td>\n",
       "    </tr>\n",
       "    <tr>\n",
       "      <th>4</th>\n",
       "      <td>Monkey</td>\n",
       "      <td>1</td>\n",
       "    </tr>\n",
       "  </tbody>\n",
       "</table>\n",
       "</div>"
      ],
      "text/plain": [
       "       동물  나이\n",
       "0     Dog   7\n",
       "1     Cat   9\n",
       "2   Tiger   2\n",
       "3    Lion   3\n",
       "4  Monkey   1"
      ]
     },
     "execution_count": 38,
     "metadata": {},
     "output_type": "execute_result"
    }
   ],
   "source": [
    "#데이터프레임으로 만들기\n",
    "df1 = pd.DataFrame(dict_data)\n",
    "df1"
   ]
  },
  {
   "cell_type": "markdown",
   "id": "03ae6e03",
   "metadata": {},
   "source": [
    "### 리스트 → 데이터프레임으로"
   ]
  },
  {
   "cell_type": "code",
   "execution_count": 42,
   "id": "c904be35",
   "metadata": {},
   "outputs": [
    {
     "data": {
      "text/plain": [
       "[['Dog', 7], ['Cat', 9], ['Tiger', 2], ['Lion', 3], ['Monkey', 1]]"
      ]
     },
     "execution_count": 42,
     "metadata": {},
     "output_type": "execute_result"
    }
   ],
   "source": [
    "list_data = [['Dog', 7],\n",
    "             ['Cat', 9],\n",
    "             ['Tiger', 2],\n",
    "             ['Lion', 3],\n",
    "             ['Monkey', 1]]\n",
    "list_data"
   ]
  },
  {
   "cell_type": "code",
   "execution_count": 44,
   "id": "ff792bde",
   "metadata": {},
   "outputs": [
    {
     "data": {
      "text/html": [
       "<div>\n",
       "<style scoped>\n",
       "    .dataframe tbody tr th:only-of-type {\n",
       "        vertical-align: middle;\n",
       "    }\n",
       "\n",
       "    .dataframe tbody tr th {\n",
       "        vertical-align: top;\n",
       "    }\n",
       "\n",
       "    .dataframe thead th {\n",
       "        text-align: right;\n",
       "    }\n",
       "</style>\n",
       "<table border=\"1\" class=\"dataframe\">\n",
       "  <thead>\n",
       "    <tr style=\"text-align: right;\">\n",
       "      <th></th>\n",
       "      <th>0</th>\n",
       "      <th>1</th>\n",
       "    </tr>\n",
       "  </thead>\n",
       "  <tbody>\n",
       "    <tr>\n",
       "      <th>0</th>\n",
       "      <td>Dog</td>\n",
       "      <td>7</td>\n",
       "    </tr>\n",
       "    <tr>\n",
       "      <th>1</th>\n",
       "      <td>Cat</td>\n",
       "      <td>9</td>\n",
       "    </tr>\n",
       "    <tr>\n",
       "      <th>2</th>\n",
       "      <td>Tiger</td>\n",
       "      <td>2</td>\n",
       "    </tr>\n",
       "    <tr>\n",
       "      <th>3</th>\n",
       "      <td>Lion</td>\n",
       "      <td>3</td>\n",
       "    </tr>\n",
       "    <tr>\n",
       "      <th>4</th>\n",
       "      <td>Monkey</td>\n",
       "      <td>1</td>\n",
       "    </tr>\n",
       "  </tbody>\n",
       "</table>\n",
       "</div>"
      ],
      "text/plain": [
       "        0  1\n",
       "0     Dog  7\n",
       "1     Cat  9\n",
       "2   Tiger  2\n",
       "3    Lion  3\n",
       "4  Monkey  1"
      ]
     },
     "execution_count": 44,
     "metadata": {},
     "output_type": "execute_result"
    }
   ],
   "source": [
    "# 데이터 프레임으로 만들기\n",
    "df2 = pd.DataFrame(list_data)\n",
    "df2"
   ]
  },
  {
   "cell_type": "markdown",
   "id": "a02a79ea",
   "metadata": {},
   "source": [
    "### 비어 있는 데이터프레임 만들기"
   ]
  },
  {
   "cell_type": "code",
   "execution_count": 46,
   "id": "de0d9700",
   "metadata": {},
   "outputs": [
    {
     "data": {
      "text/html": [
       "<div>\n",
       "<style scoped>\n",
       "    .dataframe tbody tr th:only-of-type {\n",
       "        vertical-align: middle;\n",
       "    }\n",
       "\n",
       "    .dataframe tbody tr th {\n",
       "        vertical-align: top;\n",
       "    }\n",
       "\n",
       "    .dataframe thead th {\n",
       "        text-align: right;\n",
       "    }\n",
       "</style>\n",
       "<table border=\"1\" class=\"dataframe\">\n",
       "  <thead>\n",
       "    <tr style=\"text-align: right;\">\n",
       "      <th></th>\n",
       "    </tr>\n",
       "  </thead>\n",
       "  <tbody>\n",
       "  </tbody>\n",
       "</table>\n",
       "</div>"
      ],
      "text/plain": [
       "Empty DataFrame\n",
       "Columns: []\n",
       "Index: []"
      ]
     },
     "execution_count": 46,
     "metadata": {},
     "output_type": "execute_result"
    }
   ],
   "source": [
    "df_null = pd.DataFrame()\n",
    "df_null"
   ]
  },
  {
   "cell_type": "code",
   "execution_count": 49,
   "id": "9b2d02d8",
   "metadata": {},
   "outputs": [
    {
     "data": {
      "text/html": [
       "<div>\n",
       "<style scoped>\n",
       "    .dataframe tbody tr th:only-of-type {\n",
       "        vertical-align: middle;\n",
       "    }\n",
       "\n",
       "    .dataframe tbody tr th {\n",
       "        vertical-align: top;\n",
       "    }\n",
       "\n",
       "    .dataframe thead th {\n",
       "        text-align: right;\n",
       "    }\n",
       "</style>\n",
       "<table border=\"1\" class=\"dataframe\">\n",
       "  <thead>\n",
       "    <tr style=\"text-align: right;\">\n",
       "      <th></th>\n",
       "      <th>동물</th>\n",
       "    </tr>\n",
       "  </thead>\n",
       "  <tbody>\n",
       "  </tbody>\n",
       "</table>\n",
       "</div>"
      ],
      "text/plain": [
       "Empty DataFrame\n",
       "Columns: [동물]\n",
       "Index: []"
      ]
     },
     "execution_count": 49,
     "metadata": {},
     "output_type": "execute_result"
    }
   ],
   "source": [
    "#컬럼(변수) 만들기\n",
    "df_null[\"동물\"] = \"Dog\"\n",
    "df_null"
   ]
  }
 ],
 "metadata": {
  "kernelspec": {
   "display_name": "Python 3 (ipykernel)",
   "language": "python",
   "name": "python3"
  },
  "language_info": {
   "codemirror_mode": {
    "name": "ipython",
    "version": 3
   },
   "file_extension": ".py",
   "mimetype": "text/x-python",
   "name": "python",
   "nbconvert_exporter": "python",
   "pygments_lexer": "ipython3",
   "version": "3.9.7"
  }
 },
 "nbformat": 4,
 "nbformat_minor": 5
}
